{
 "cells": [
  {
   "cell_type": "code",
   "execution_count": 1,
   "id": "initial_id",
   "metadata": {
    "collapsed": true,
    "ExecuteTime": {
     "end_time": "2023-10-29T16:13:30.618793086Z",
     "start_time": "2023-10-29T16:13:30.262241221Z"
    }
   },
   "outputs": [],
   "source": [
    "from pyspark.sql import SparkSession, functions as sf\n",
    "from pyspark.sql.types import StructType, StructField, IntegerType, StringType\n",
    "import pandas as pd\n",
    "import pyarrow\n",
    "\n",
    "import tabulate\n",
    "from enum import Enum"
   ]
  },
  {
   "cell_type": "markdown",
   "source": [
    "Подключимся к спарку"
   ],
   "metadata": {
    "collapsed": false
   },
   "id": "1ff79f919685da16"
  },
  {
   "cell_type": "code",
   "execution_count": 2,
   "outputs": [
    {
     "name": "stderr",
     "output_type": "stream",
     "text": [
      "23/10/29 19:13:32 WARN Utils: Your hostname, Victus-by-HP-Laptop resolves to a loopback address: 127.0.1.1; using 192.168.31.236 instead (on interface wlp4s0)\n",
      "23/10/29 19:13:32 WARN Utils: Set SPARK_LOCAL_IP if you need to bind to another address\n",
      "Setting default log level to \"WARN\".\n",
      "To adjust logging level use sc.setLogLevel(newLevel). For SparkR, use setLogLevel(newLevel).\n",
      "23/10/29 19:13:33 WARN NativeCodeLoader: Unable to load native-hadoop library for your platform... using builtin-java classes where applicable\n"
     ]
    }
   ],
   "source": [
    "spark = (\n",
    "    SparkSession.builder\n",
    "    .master('spark://localhost:7077')\n",
    "    .config('spark.sql.repl.eagerEval.enabled', True)\n",
    "    .getOrCreate()\n",
    ")"
   ],
   "metadata": {
    "collapsed": false,
    "ExecuteTime": {
     "end_time": "2023-10-29T16:13:34.684357815Z",
     "start_time": "2023-10-29T16:13:31.359511681Z"
    }
   },
   "id": "c2932da1e875bf1b"
  },
  {
   "cell_type": "markdown",
   "source": [
    "Загрузим сами данные"
   ],
   "metadata": {
    "collapsed": false
   },
   "id": "ee0fe979b3f95561"
  },
  {
   "cell_type": "code",
   "execution_count": 3,
   "outputs": [],
   "source": [
    "table_schema = StructType([\n",
    "    StructField('id', IntegerType(), False),\n",
    "    StructField('genre', StringType(), False),\n",
    "    StructField('name', StringType(), False),\n",
    "    StructField('status', IntegerType(), False),\n",
    "])\n",
    "df = (spark.read\n",
    "      .format('csv')\n",
    "      .option('header', False)\n",
    "      .schema(table_schema)\n",
    "      .load('anime.csv')\n",
    "      )"
   ],
   "metadata": {
    "collapsed": false,
    "ExecuteTime": {
     "end_time": "2023-10-29T16:13:36.895185837Z",
     "start_time": "2023-10-29T16:13:34.975699788Z"
    }
   },
   "id": "72fa5f7642121348"
  },
  {
   "cell_type": "markdown",
   "source": [
    "Определим какой статус (число), что означает"
   ],
   "metadata": {
    "collapsed": false
   },
   "id": "9efcd82156305f7a"
  },
  {
   "cell_type": "code",
   "execution_count": 4,
   "outputs": [],
   "source": [
    "class WatchingStatus:\n",
    "    Watching = 1\n",
    "    Completed = 2\n",
    "    OnHold = 3\n",
    "    Dropped = 4\n",
    "    PlanToWatch = 6\n",
    "    \n",
    "    @staticmethod\n",
    "    def interpret(number):\n",
    "        number = int(number)\n",
    "        if number == WatchingStatus.Watching: return 'Watching'\n",
    "        if number == WatchingStatus.Completed: return 'Completed'\n",
    "        if number == WatchingStatus.OnHold: return 'OnHold'\n",
    "        if number == WatchingStatus.Dropped: return 'Dropped'\n",
    "        if number == WatchingStatus.PlanToWatch: return 'PlanToWatch'\n",
    "        raise ValueError(f'Непонятное значение для {number}')"
   ],
   "metadata": {
    "collapsed": false,
    "ExecuteTime": {
     "end_time": "2023-10-29T16:13:39.761828999Z",
     "start_time": "2023-10-29T16:13:39.756879101Z"
    }
   },
   "id": "d4cb0a1138d11323"
  },
  {
   "cell_type": "markdown",
   "source": [
    "## 1. Получим статистику брошенных аниме по жанрам\n",
    "\n",
    "Для каждого жанра - кол-во аниме, просмотр которых бросили.\n",
    "\n",
    "P.S. это переписанный исходный запрос"
   ],
   "metadata": {
    "collapsed": false
   },
   "id": "5b4e37e5ef739321"
  },
  {
   "cell_type": "code",
   "execution_count": 5,
   "outputs": [
    {
     "name": "stderr",
     "output_type": "stream",
     "text": [
      "                                                                                \r"
     ]
    },
    {
     "data": {
      "text/plain": "+-------------+-------+\n|        genre|dropped|\n+-------------+-------+\n|       comedy|   4205|\n|       action|   3676|\n|      romance|   2394|\n|      fantasy|   2391|\n|       school|   2189|\n|      shounen|   2177|\n|        drama|   2070|\n| supernatural|   1959|\n|    adventure|   1787|\n|       sci-fi|   1522|\n|slice of life|   1283|\n|        ecchi|   1116|\n|      mystery|    995|\n|        magic|    947|\n|       seinen|    901|\n|  super power|    890|\n|        harem|    778|\n|psychological|    554|\n|       shoujo|    540|\n|        mecha|    462|\n+-------------+-------+\nonly showing top 20 rows",
      "text/html": "<table border='1'>\n<tr><th>genre</th><th>dropped</th></tr>\n<tr><td>comedy</td><td>4205</td></tr>\n<tr><td>action</td><td>3676</td></tr>\n<tr><td>romance</td><td>2394</td></tr>\n<tr><td>fantasy</td><td>2391</td></tr>\n<tr><td>school</td><td>2189</td></tr>\n<tr><td>shounen</td><td>2177</td></tr>\n<tr><td>drama</td><td>2070</td></tr>\n<tr><td>supernatural</td><td>1959</td></tr>\n<tr><td>adventure</td><td>1787</td></tr>\n<tr><td>sci-fi</td><td>1522</td></tr>\n<tr><td>slice of life</td><td>1283</td></tr>\n<tr><td>ecchi</td><td>1116</td></tr>\n<tr><td>mystery</td><td>995</td></tr>\n<tr><td>magic</td><td>947</td></tr>\n<tr><td>seinen</td><td>901</td></tr>\n<tr><td>super power</td><td>890</td></tr>\n<tr><td>harem</td><td>778</td></tr>\n<tr><td>psychological</td><td>554</td></tr>\n<tr><td>shoujo</td><td>540</td></tr>\n<tr><td>mecha</td><td>462</td></tr>\n</table>\nonly showing top 20 rows\n"
     },
     "execution_count": 5,
     "metadata": {},
     "output_type": "execute_result"
    }
   ],
   "source": [
    "dropped = df.filter(df.status == WatchingStatus.Dropped).groupBy(df.genre).count().orderBy('count', ascending=False)\n",
    "dropped = dropped.withColumnRenamed('count', 'dropped')\n",
    "dropped"
   ],
   "metadata": {
    "collapsed": false,
    "ExecuteTime": {
     "end_time": "2023-10-29T16:13:44.598453464Z",
     "start_time": "2023-10-29T16:13:41.790060645Z"
    }
   },
   "id": "1f79aa8d6d974d18"
  },
  {
   "cell_type": "markdown",
   "source": [
    "# 2. Посмотрим какой статус у большинства аниме"
   ],
   "metadata": {
    "collapsed": false
   },
   "id": "40c78a0035b36bc8"
  },
  {
   "cell_type": "code",
   "execution_count": 6,
   "outputs": [
    {
     "name": "stderr",
     "output_type": "stream",
     "text": [
      "                                                                                \r"
     ]
    },
    {
     "data": {
      "text/plain": "        status   count\n4    Completed  594452\n1  PlanToWatch  271568\n0     Watching   54563\n2       OnHold   41871\n3      Dropped   37546",
      "text/html": "<div>\n<style scoped>\n    .dataframe tbody tr th:only-of-type {\n        vertical-align: middle;\n    }\n\n    .dataframe tbody tr th {\n        vertical-align: top;\n    }\n\n    .dataframe thead th {\n        text-align: right;\n    }\n</style>\n<table border=\"1\" class=\"dataframe\">\n  <thead>\n    <tr style=\"text-align: right;\">\n      <th></th>\n      <th>status</th>\n      <th>count</th>\n    </tr>\n  </thead>\n  <tbody>\n    <tr>\n      <th>4</th>\n      <td>Completed</td>\n      <td>594452</td>\n    </tr>\n    <tr>\n      <th>1</th>\n      <td>PlanToWatch</td>\n      <td>271568</td>\n    </tr>\n    <tr>\n      <th>0</th>\n      <td>Watching</td>\n      <td>54563</td>\n    </tr>\n    <tr>\n      <th>2</th>\n      <td>OnHold</td>\n      <td>41871</td>\n    </tr>\n    <tr>\n      <th>3</th>\n      <td>Dropped</td>\n      <td>37546</td>\n    </tr>\n  </tbody>\n</table>\n</div>"
     },
     "execution_count": 6,
     "metadata": {},
     "output_type": "execute_result"
    }
   ],
   "source": [
    "most_common = df.groupBy(df.status).count().toPandas()\n",
    "# most_common_mapped = most_common.rdd.map(lambda x: (WatchingStatus.interpret(x.status), x.count)).collect()\n",
    "# tabulate.tabulate(most_common_mapped, )\n",
    "most_common['status'] = most_common['status'].apply(lambda x: WatchingStatus.interpret(x))\n",
    "most_common.sort_values(by='count', ascending=False)"
   ],
   "metadata": {
    "collapsed": false,
    "ExecuteTime": {
     "end_time": "2023-10-29T16:14:04.349909557Z",
     "start_time": "2023-10-29T16:14:03.192425034Z"
    }
   },
   "id": "c053021505cd7390"
  },
  {
   "cell_type": "markdown",
   "source": [
    "Больше всего аниме Завершенных, но меньше всего Брошенных.\n",
    "\n",
    "Это значит, что случайное аниме с большей долей вероятности посмотрят до конца, чем бросят"
   ],
   "metadata": {
    "collapsed": false
   },
   "id": "e93c3bb97eaff538"
  },
  {
   "cell_type": "markdown",
   "source": [
    "# 3. Сколько аниме смотрят или посмотрели пользователи в среднем"
   ],
   "metadata": {
    "collapsed": false
   },
   "id": "76ac15336eb1ade"
  },
  {
   "cell_type": "code",
   "execution_count": 69,
   "outputs": [
    {
     "name": "stderr",
     "output_type": "stream",
     "text": [
      "                                                                                \r"
     ]
    },
    {
     "data": {
      "text/plain": "+-----------------+\n|       avg(count)|\n+-----------------+\n|79.65328915071183|\n+-----------------+",
      "text/html": "<table border='1'>\n<tr><th>avg(count)</th></tr>\n<tr><td>79.65328915071183</td></tr>\n</table>\n"
     },
     "execution_count": 69,
     "metadata": {},
     "output_type": "execute_result"
    }
   ],
   "source": [
    "avg_anime_watched = (\n",
    "    df\n",
    "    .filter((df.status == WatchingStatus.Completed) | (df.status == WatchingStatus.Watching)) # Получаем только просмотренные аниме\n",
    "    .select(['id', 'name']) # Выбираем только нужные поля\n",
    "    .groupby('id') # Группируем по пользователям\n",
    "    .count() # Считаем для каждого пользователя\n",
    "    .agg({'count': 'avg'}) # Получаем среднее кол-во\n",
    ")\n",
    "avg_anime_watched"
   ],
   "metadata": {
    "collapsed": false,
    "ExecuteTime": {
     "end_time": "2023-10-29T17:14:46.420333935Z",
     "start_time": "2023-10-29T17:14:44.611735433Z"
    }
   },
   "id": "86e6319b9938bf88"
  },
  {
   "cell_type": "markdown",
   "source": [
    "В среднем, каждый пользователь *знает* (посмотрел или смотрит) о **80** аниме!!!! "
   ],
   "metadata": {
    "collapsed": false
   },
   "id": "d217814849e2c2ac"
  },
  {
   "cell_type": "markdown",
   "source": [],
   "metadata": {
    "collapsed": false
   },
   "id": "3f2a018e6ea236fe"
  },
  {
   "cell_type": "markdown",
   "source": [
    "# 4. Среднее количество жанров для каждого аниме"
   ],
   "metadata": {
    "collapsed": false
   },
   "id": "904a62d4b70b9996"
  },
  {
   "cell_type": "code",
   "execution_count": 31,
   "outputs": [
    {
     "name": "stderr",
     "output_type": "stream",
     "text": [
      "                                                                                \r"
     ]
    },
    {
     "data": {
      "text/plain": "+------------------+\n|        avg(count)|\n+------------------+\n|3.3536240662224914|\n+------------------+",
      "text/html": "<table border='1'>\n<tr><th>avg(count)</th></tr>\n<tr><td>3.3536240662224914</td></tr>\n</table>\n"
     },
     "execution_count": 31,
     "metadata": {},
     "output_type": "execute_result"
    }
   ],
   "source": [
    "avg_genres_count = (\n",
    "    df\n",
    "    .select(['name', 'genre'])\n",
    "    .distinct()\n",
    "    .groupBy('name')\n",
    "    .count()\n",
    "    .agg({'count': 'avg'})\n",
    ")\n",
    "\n",
    "avg_genres_count"
   ],
   "metadata": {
    "collapsed": false,
    "ExecuteTime": {
     "end_time": "2023-10-29T16:42:36.934834197Z",
     "start_time": "2023-10-29T16:42:34.373198198Z"
    }
   },
   "id": "bf9b431bb717118c"
  },
  {
   "cell_type": "markdown",
   "source": [
    "В среднем у каждого аниме 3-4 жанра"
   ],
   "metadata": {
    "collapsed": false
   },
   "id": "8aa0dcd0d6763eea"
  },
  {
   "cell_type": "markdown",
   "source": [
    "# 5. Сколько экшена посмотрел каждый пользователь в среднем (медиана)"
   ],
   "metadata": {
    "collapsed": false
   },
   "id": "5483671177a85ad6"
  },
  {
   "cell_type": "code",
   "execution_count": 62,
   "outputs": [
    {
     "name": "stderr",
     "output_type": "stream",
     "text": [
      "                                                                                \r"
     ]
    },
    {
     "data": {
      "text/plain": "+-----------------+\n|       avg(count)|\n+-----------------+\n|6.140982944797659|\n+-----------------+",
      "text/html": "<table border='1'>\n<tr><th>avg(count)</th></tr>\n<tr><td>6.140982944797659</td></tr>\n</table>\n"
     },
     "execution_count": 62,
     "metadata": {},
     "output_type": "execute_result"
    }
   ],
   "source": [
    "# Первая таблица только с ID пользователей\n",
    "user_ids = (\n",
    "    df\n",
    "    .select('id')\n",
    "    .distinct()\n",
    ")\n",
    "\n",
    "# Список из пар ID-жанр по одной записи для каждого просмотренного аниме\n",
    "user_genre = (\n",
    "    df\n",
    "    .filter(((df.status == WatchingStatus.Completed) | (df.status == WatchingStatus.Watching)) & (df.genre == 'action'))\n",
    "    .select(['id', 'genre'])\n",
    ")\n",
    "\n",
    "# Сливаем все вместе\n",
    "avg_action = (\n",
    "    user_ids\n",
    "    .join(user_genre, on='id', how='left') # Связываем 2 таблицы вместе\n",
    "    .groupby('id') # Группируем по пользователям (в группах останутся только 'action'\n",
    "    # если группа пуста, то count() будет превращать NULL как 1 - нужно использовать другой механизм\n",
    "    .agg(sf.when(sf.count('genre') > 0, sf.count('genre')).otherwise(0).alias('count')) # считаем кол-во элементов в каждой группе\n",
    "    .agg({'count': 'avg'}) # получаем среднее число\n",
    ")\n",
    "\n",
    "avg_action"
   ],
   "metadata": {
    "collapsed": false,
    "ExecuteTime": {
     "end_time": "2023-10-29T17:09:17.877625189Z",
     "start_time": "2023-10-29T17:09:14.855074068Z"
    }
   },
   "id": "ecb74c325a02135b"
  },
  {
   "cell_type": "markdown",
   "source": [
    "В среднем, каждый пользователь посмотрел 6 аниме с жанром 'action'"
   ],
   "metadata": {
    "collapsed": false
   },
   "id": "955b0d5f8e4abc12"
  }
 ],
 "metadata": {
  "kernelspec": {
   "display_name": "Python 3",
   "language": "python",
   "name": "python3"
  },
  "language_info": {
   "codemirror_mode": {
    "name": "ipython",
    "version": 2
   },
   "file_extension": ".py",
   "mimetype": "text/x-python",
   "name": "python",
   "nbconvert_exporter": "python",
   "pygments_lexer": "ipython2",
   "version": "2.7.6"
  }
 },
 "nbformat": 4,
 "nbformat_minor": 5
}
